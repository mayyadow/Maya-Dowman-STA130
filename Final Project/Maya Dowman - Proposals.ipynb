{
 "cells": [
  {
   "cell_type": "markdown",
   "id": "3714be64",
   "metadata": {},
   "source": [
    "# Analysis 1: Online socialization and loneliness  \n"
   ]
  },
  {
   "cell_type": "markdown",
   "id": "1fa1725e",
   "metadata": {},
   "source": [
    "**Research Question**: Is there a correlation between the amount of real life and online interactions and feelings of loneliness?\n"
   ]
  },
  {
   "cell_type": "markdown",
   "id": "b91e7524",
   "metadata": {},
   "source": [
    "**Variables**: \n",
    "The variables that will be looked at in this analysis are the ones that fall under the CONNECTION and LONELY categories. We will then subdivide the CONNECTION category into “real life” and “online” (real life being socializing with another person in a real life setting, while online will constitute socializing through online means such as text, phone call, video games, etc.). In our analysis of the variables, we can also subdivide the participants by whether they exhibit higher levels of online vs real life social interactions. We will then focus on the loneliness scales of each participant's response. By choosing these variables, we are able to focus on how different modes of connections with others interact with their loneliness scales. \n"
   ]
  },
  {
   "cell_type": "markdown",
   "id": "0592bb46",
   "metadata": {},
   "source": [
    "**Visualizations**:\n",
    "Box plots: side by side plots of loneliness scores for the “real life” and “online” subgroups, to see the overall differences in their distributions\n",
    "\n",
    "Histogram: distribution of loneliness scores for the two subgroups \n",
    "\n",
    "Scatter plot: real life e vs online interactions, with points color coded by loneliness level \n"
   ]
  },
  {
   "cell_type": "markdown",
   "id": "8a914c75",
   "metadata": {},
   "source": [
    "**Analysis method**: \n",
    "To answer the research question, we can use multiple linear regression and a hypothesis test for the slope to see if there is any correlation present. \n",
    "The null hypothesis would be: H0​:β1​=0 and β2​=0\n",
    "β1​ is the coefficient for real-life interactions, and\n",
    "β2 is the coefficient for online interactions\n",
    "More specifically, the null hypothesis would be that there is no significant correlation between real-life interactions and loneliness, and no significant correlation between online interactions and loneliness.\n",
    "The alternate hypothesis would be: HA​:β1​≠0 or β2​≠0, which means that there is a significant correlation between real life interactions and loneliness, and there is a significant correlation between online interactions and loneliness\n",
    "We will set ɑ = 0.05\n"
   ]
  },
  {
   "cell_type": "markdown",
   "id": "d0f72667",
   "metadata": {},
   "source": [
    "To quantify the amount of real-life versus online interactions, we will utilize a Likert \n",
    "scale (1 for a few times a week, 7 for monthly), and then sum the scores for all real-life interaction questions. We will then do the same for online interactions to get the frequency of each for each participant. \n",
    "We will assume linearity, homoscedasticity, independence of errors, normality, and independence of the independent variables (real life and online interactions). \n",
    "We can use the formula Loneliness=β0​+β1​×(Real Life Interactions)+β2​×(Online Interactions)+ϵ and calculate the correlation coefficient to see whether there is any strong correlation present. We then can calculate the t test statistic and find the p value, and compare that against our significance level, to see whether β1 and β2 are statistically significant. \n"
   ]
  },
  {
   "cell_type": "markdown",
   "id": "9ff9ceed",
   "metadata": {},
   "source": [
    "**Hypothesis**: I hypothesize that both  𝛃1 (real life interactions), and  𝛃2 (online interactions), will be statistically significant in determining the level of loneliness, and that real life interactions will have a negative correlation with loneliness, while online interactions will have positive correlation with loneliness. We will find this outcome if after calculating the p value for both  𝛃1 and 𝛃2, the p-value is less than our predetermined ɑ of 0.05. We will also find a positive correlation coefficient for loneliness and online communication usage, while a negative correlation coefficient for loneliness and real life communication. \n"
   ]
  },
  {
   "cell_type": "markdown",
   "id": "72973038",
   "metadata": {},
   "source": [
    "# Analysis 2: Social anxiety levels during/post pandemic\n"
   ]
  },
  {
   "cell_type": "markdown",
   "id": "4b7d270b",
   "metadata": {},
   "source": [
    "**Research Question**: Has there been an increase in social anxiety levels during and post pandemic? \n"
   ]
  },
  {
   "cell_type": "markdown",
   "id": "b80d4749",
   "metadata": {},
   "source": [
    "**Variables**: We will focus on the variables under the PSYCH_social_interactions_anxiety_scale category and calculate the mean scale value for both of the years 2021 and 2023. \n"
   ]
  },
  {
   "cell_type": "markdown",
   "id": "2f7a4f40",
   "metadata": {},
   "source": [
    "**Visualizations**:\n",
    "Box plot: overall means of 2021 and 2023 side by side \n",
    "\n",
    "Histogram/KDE: distribution of mean anxiety scores for 2021 and 2023 separately \n"
   ]
  },
  {
   "cell_type": "markdown",
   "id": "0d005fbb",
   "metadata": {},
   "source": [
    "**Analysis method**: \n",
    "To answer the research question, we can create a 95% confidence interval using differences in population means (mean of 2023 - mean of 2021). \n",
    "We assume independence of observations, that the sample means are normally distributed, equal variance between the two groups, and random sampling of the two groups. \n",
    "We can first calculate the difference in the sample means of 2021 and 2023, then the standard error, calculate the z-score (1.96 for a 95% confidence interval), then create a confidence interval. \n"
   ]
  },
  {
   "cell_type": "markdown",
   "id": "ef115f90",
   "metadata": {},
   "source": [
    "**Hypothesis**: \n",
    "I hypothesize that the levels of social anxiety would have changed a statistically significant amount, and that it would have increased during that time period. If this hypothesis is true, then we would obtain a confidence interval not containing 0, and only containing positive values, showing that social anxiety significantly increased after covid. \n"
   ]
  },
  {
   "cell_type": "markdown",
   "id": "9ea3efad",
   "metadata": {},
   "source": [
    "# Analysis 3: Knowing how important social interactions are and level of well being"
   ]
  },
  {
   "cell_type": "markdown",
   "id": "6f65b118",
   "metadata": {},
   "source": [
    "**Research Question**: Is there a significant difference in wellness levels between people who are aware that social interactions are important to your health and well being and those who do not? \n"
   ]
  },
  {
   "cell_type": "markdown",
   "id": "91adc6ab",
   "metadata": {},
   "source": [
    "**Variables**: We will look at the KNOWLEDGE_how_learned_important variable and the WELLNESS_self_rated_physical_health and WELLNESS_self_rated_mental_health variables. This will give us information on whether they were aware of this information, and also how they assess their current level of mental/physical health. \n"
   ]
  },
  {
   "cell_type": "markdown",
   "id": "f34dee0b",
   "metadata": {},
   "source": [
    "**Visualization**: \n",
    "Box plots: create boxplots showing levels of mental/physical health for each aware/unaware subgroup \n",
    "\n",
    "Scatterplot: plot physical and mental health ratings \n",
    "\n",
    "Histogram: plot histogram of wellness ratings for each group (aware/unaware) \n"
   ]
  },
  {
   "cell_type": "markdown",
   "id": "bf202ed2",
   "metadata": {},
   "source": [
    "**Analysis Method**: To answer this research question, we will do a hypothesis test for difference in population means (aware-unaware). \n",
    "We assume independence, normality, random sampling, and equal variance. Our null hypothesis will be that the difference is equal to 0\n",
    "H0​: μaware​−μunaware​ = 0\n",
    "In other words, this means that there is no significant difference in wellness levels between individuals who are aware of the importance of social interactions and those who are not\n",
    "While the alternative will be that the difference is not equal to 0. \n",
    "Ha: μaware​−μunaware ≠​ 0\n",
    "Which means that there is a significant difference in wellness levels between the two groups of individuals. \n",
    "We will choose our significance level to be 0.05. Then, we will calculate the t test statistic and compute the p value. \n"
   ]
  },
  {
   "cell_type": "markdown",
   "id": "8b9fab7e",
   "metadata": {},
   "source": [
    "**Hypothesis**: I hypothesize that there will be a significance difference, which means that we will calculate a p value that is smaller than our significance level of 0.05. This shows that wellness levels between the two groups are significantly different, suggesting that awareness of social interactions' importance has a statistically significant impact on wellness.\n",
    "\n"
   ]
  },
  {
   "cell_type": "code",
   "execution_count": null,
   "id": "5e23b1ab",
   "metadata": {},
   "outputs": [],
   "source": []
  }
 ],
 "metadata": {
  "kernelspec": {
   "display_name": "Python 3 (ipykernel)",
   "language": "python",
   "name": "python3"
  },
  "language_info": {
   "codemirror_mode": {
    "name": "ipython",
    "version": 3
   },
   "file_extension": ".py",
   "mimetype": "text/x-python",
   "name": "python",
   "nbconvert_exporter": "python",
   "pygments_lexer": "ipython3",
   "version": "3.11.6"
  }
 },
 "nbformat": 4,
 "nbformat_minor": 5
}
