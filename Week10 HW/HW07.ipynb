{
 "cells": [
  {
   "cell_type": "markdown",
   "id": "49f8380b",
   "metadata": {},
   "source": [
    "# 1"
   ]
  },
  {
   "cell_type": "markdown",
   "id": "0c1396d1",
   "metadata": {},
   "source": [
    "1.) The difference between simple linear regression and multiple linear regression is the number of predictor variables it takes into account. Simple linear regression looks at how one predictor variable relates to the outcome, while multiple linear regression looks at how multiple predictor variables independently affect the outcome variable. "
   ]
  },
  {
   "cell_type": "markdown",
   "id": "b8638802",
   "metadata": {},
   "source": [
    "2.) A continuous variable is a variable that takes all numerical values. On the other hand, an indicator variable is like a switch that turns on and off depending on the category of the variable. In other words, it represents a categorical characterization, taking on values 0 or 1. The linear form of a simple linear regression would be Y=β \n",
    "0​+β 1​X+ϵ. X is continuous here. The model for multiple linear regression is Y=β0​+β1​D+ϵ where D represents an indicator variable that results in either 0 or 1 depending on what categorical variable is represented. \n"
   ]
  },
  {
   "cell_type": "markdown",
   "id": "044ff7af",
   "metadata": {},
   "source": [
    "3.) In multiple linear regression vs simple linear regression, the intercept of the model shifts depending on the categorical variables present. In other words, the model still represents a linear model, but depending on the indicator variable being turned on or off, the intercept shifts. "
   ]
  },
  {
   "cell_type": "markdown",
   "id": "19468c66",
   "metadata": {},
   "source": [
    "4.) The effect of adding an interaction between a continuous and an indicator variable in multiple lienar regression models is being able to have a predictor variable depend on another predictor variable. This allows for the model to show interactions between predictor variables in predicting the outcome variable. The model for this form would be Y=β0​+β1​X+β2​D+β​(X⋅D)+ϵ"
   ]
  },
  {
   "cell_type": "markdown",
   "id": "419e1f19",
   "metadata": {},
   "source": [
    "5.) The behavior of the multiple linear regression model will change based on which category is used as a reference category. The reference category is the category that will be implicitly represented through the other two categories which utilize an indicator variable. So for example, when representing three categories (red, blue, green), and setting red as the implicity represented variable, you will get the model Y=β0​+β1​DBlue​+β2​DGreen​+ϵ. The binary variable encodings this model utilizes is called one-hot encoding. "
   ]
  },
  {
   "cell_type": "markdown",
   "id": "d9804d3c",
   "metadata": {},
   "source": [
    "ChaptGPT Link: https://chatgpt.com/share/67365b78-6668-8011-9af4-4fd91dc4625e\n",
    "\n",
    "https://chatgpt.com/share/67365b99-db8c-8011-9174-eeee26932a7a"
   ]
  },
  {
   "cell_type": "markdown",
   "id": "436d81c7",
   "metadata": {},
   "source": [
    "# 2"
   ]
  },
  {
   "cell_type": "markdown",
   "id": "ee44da20",
   "metadata": {},
   "source": [
    "1.) In this situation we want to observe how the sales of sports equipment relate to amount spent on advertising on TV and online platforms. This will make our outcome variable be the amount of sports equipment sales, and our predictor variables the amount spent on TV and online advertising. The model for prediciting the outcome **without** interaction is: Outcome=β0​+β1​(TV)+β2​(Online)+ϵ. The model for predicting the outcome **with** interaction is: Sales=β0​+β1​(TV)+β2​(Online)+β3​(TV×Online)+ϵ. The model without interaction predicts how TV and Online advertising independently affect how much sales are made. The model with interaction takes into consideration how TV advertising and online spending can change depending on the amount of spending for each one. "
   ]
  },
  {
   "cell_type": "markdown",
   "id": "483a0bd6",
   "metadata": {},
   "source": [
    "2.) We can use an indicator variable for TV(high) and Online(high). In other words, this variable will evaluate to 1 if it is characterized as high spending for either TV or Online advertising. The formula would be changed to this: Sales=β0​+β1​(TV high​)+β2​(Online high​)+ϵ "
   ]
  },
  {
   "cell_type": "markdown",
   "id": "c011d780",
   "metadata": {},
   "source": [
    "ChaptGPT Link: https://chatgpt.com/share/67365bbc-9c78-8011-b854-f427b387dfae"
   ]
  },
  {
   "cell_type": "markdown",
   "id": "2d60bf6b",
   "metadata": {},
   "source": [
    "# 3 "
   ]
  },
  {
   "cell_type": "code",
   "execution_count": 17,
   "id": "789510a5",
   "metadata": {},
   "outputs": [
    {
     "name": "stdout",
     "output_type": "stream",
     "text": [
      "Optimization terminated successfully.\n",
      "         Current function value: 0.487482\n",
      "         Iterations 6\n",
      "                           Logit Regression Results                           \n",
      "==============================================================================\n",
      "Dep. Variable:              isolation   No. Observations:                  807\n",
      "Model:                          Logit   Df Residuals:                      798\n",
      "Method:                           MLE   Df Model:                            8\n",
      "Date:                Thu, 14 Nov 2024   Pseudo R-squ.:                 0.09451\n",
      "Time:                        20:33:23   Log-Likelihood:                -393.40\n",
      "converged:                       True   LL-Null:                       -434.46\n",
      "Covariance Type:            nonrobust   LLR p-value:                 1.829e-14\n",
      "============================================================================================================\n",
      "                                               coef    std err          z      P>|z|      [0.025      0.975]\n",
      "------------------------------------------------------------------------------------------------------------\n",
      "Intercept                                   -0.6268      0.273     -2.299      0.022      -1.161      -0.092\n",
      "hug_A_few_times_a_week[T.True]              -0.3261      0.352     -0.926      0.354      -1.016       0.364\n",
      "hug_Daily_or_almost_daily[T.True]           -0.1758      0.291     -0.604      0.546      -0.746       0.395\n",
      "hug_Less_than_monthly[T.True]                0.5573      0.344      1.621      0.105      -0.117       1.231\n",
      "hug_Monthly[T.True]                          0.8287      0.375      2.212      0.027       0.094       1.563\n",
      "hug_Not_in_the_past_three_months[T.True]     0.8158      0.312      2.616      0.009       0.205       1.427\n",
      "hug_Presented_but_no_response[T.True]        1.9951      1.116      1.787      0.074      -0.193       4.183\n",
      "hug_Weekly[T.True]                          -0.2320      0.383     -0.605      0.545      -0.983       0.519\n",
      "CONNECTION_social_num_close_friends         -0.1963      0.039     -5.084      0.000      -0.272      -0.121\n",
      "============================================================================================================\n"
     ]
    }
   ],
   "source": [
    "import pandas as pd\n",
    "import statsmodels.formula.api as smf\n",
    "\n",
    "# Load the dataset\n",
    "cscs = pd.read_csv('CSCS_data_anon.csv', dtype='string', low_memory=False)\n",
    "\n",
    "# Drop rows with missing values only in relevant columns\n",
    "required_columns = ['LONELY_ucla_loneliness_scale_isolated', 'CONNECTION_social_num_close_friends', 'CONNECTION_activities_hug_p3m']\n",
    "cscs = cscs.dropna(subset=required_columns)\n",
    "\n",
    "# Check if cscs is empty after dropping rows\n",
    "if cscs.empty:\n",
    "    raise ValueError(\"The dataset is still empty after selective dropping of rows with missing values.\")\n",
    "\n",
    "# Create the 'isolation' column as a binary variable (1 if 'Often', 0 otherwise)\n",
    "cscs['isolation'] = (cscs['LONELY_ucla_loneliness_scale_isolated'] == 'Often').astype(int)\n",
    "\n",
    "# Convert CONNECTION_social_num_close_friends to numeric\n",
    "cscs['CONNECTION_social_num_close_friends'] = pd.to_numeric(cscs['CONNECTION_social_num_close_friends'], errors='coerce')\n",
    "\n",
    "# Create dummy variables for CONNECTION_activities_hug_p3m and clean up column names\n",
    "hug_dummies = pd.get_dummies(cscs['CONNECTION_activities_hug_p3m'], prefix='hug', drop_first=True)\n",
    "\n",
    "# Rename columns to remove spaces and special characters\n",
    "hug_dummies.columns = hug_dummies.columns.str.replace(r'\\W', '_', regex=True)\n",
    "\n",
    "# Add the dummy variables to the DataFrame\n",
    "cscs = pd.concat([cscs, hug_dummies], axis=1)\n",
    "\n",
    "# Ensure all relevant columns are of standard numeric types\n",
    "cscs['isolation'] = cscs['isolation'].astype(int)\n",
    "cscs['CONNECTION_social_num_close_friends'] = cscs['CONNECTION_social_num_close_friends'].astype(float)\n",
    "\n",
    "# Define the logistic regression formula including dummy variables as predictors\n",
    "linear_model_specification_formula = (\n",
    "    'isolation ~ CONNECTION_social_num_close_friends + ' +\n",
    "    ' + '.join(hug_dummies.columns)\n",
    ")\n",
    "\n",
    "# Fit the logistic regression model\n",
    "try:\n",
    "    log_reg_fit = smf.logit(linear_model_specification_formula, data=cscs).fit(maxiter=100)\n",
    "    print(log_reg_fit.summary())\n",
    "except ValueError as e:\n",
    "    print(f\"Error fitting the model: {e}\")\n"
   ]
  },
  {
   "cell_type": "code",
   "execution_count": 23,
   "id": "22df535d",
   "metadata": {},
   "outputs": [
    {
     "name": "stdout",
     "output_type": "stream",
     "text": [
      "Optimization terminated successfully.\n",
      "         Current function value: 0.501925\n",
      "         Iterations 6\n",
      "Optimization terminated successfully.\n",
      "         Current function value: 0.501778\n",
      "         Iterations 7\n"
     ]
    },
    {
     "data": {
      "image/png": "[encoded data removed]"
     },
     "metadata": {},
     "output_type": "display_data"
    },
    {
     "data": {
      "image/png": "[encoded data removed]"
     },
     "metadata": {},
     "output_type": "display_data"
    }
   ],
   "source": [
    "import pandas as pd\n",
    "import plotly.express as px\n",
    "import statsmodels.formula.api as smf\n",
    "import numpy as np\n",
    "\n",
    "# Assuming you have a dataframe `cscs` and necessary columns\n",
    "\n",
    "# Create the 'isolation' binary column as a binary variable (1 if 'Often', 0 otherwise)\n",
    "cscs['isolation'] = (cscs['LONELY_ucla_loneliness_scale_isolated'] == 'Often').astype(int)\n",
    "\n",
    "# Convert 'CONNECTION_social_num_close_friends' to numeric, handling non-numeric values\n",
    "cscs['CONNECTION_social_num_close_friends'] = pd.to_numeric(cscs['CONNECTION_social_num_close_friends'], errors='coerce')\n",
    "\n",
    "# Create binary indicator from 'CONNECTION_activities_hug_p3m' (adjust depending on your need)\n",
    "hug_indicator = (cscs['CONNECTION_activities_hug_p3m'] == 'Daily or almost daily').astype(int)\n",
    "cscs['hug_indicator'] = hug_indicator\n",
    "\n",
    "# Fit the additive model (continuous + binary indicator)\n",
    "additive_model = smf.logit('isolation ~ CONNECTION_social_num_close_friends + hug_indicator', data=cscs).fit()\n",
    "\n",
    "# Fit the synergistic model (continuous + binary indicator + interaction term)\n",
    "synergistic_model = smf.logit('isolation ~ CONNECTION_social_num_close_friends * hug_indicator', data=cscs).fit()\n",
    "\n",
    "# Generate a smooth sequence of 'x' values for plotting (from min to max of the 'CONNECTION_social_num_close_friends')\n",
    "x_vals = np.linspace(cscs['CONNECTION_social_num_close_friends'].min(), \n",
    "                     cscs['CONNECTION_social_num_close_friends'].max(), \n",
    "                     100)\n",
    "\n",
    "# Create a DataFrame with these values and corresponding hug indicator (assuming 0 or 1, you can modify as needed)\n",
    "hug_indicator_vals = np.zeros_like(x_vals)  # Adjust this if you want to plot with different hug_indicator values\n",
    "x_vals_df = pd.DataFrame({'CONNECTION_social_num_close_friends': x_vals, 'hug_indicator': hug_indicator_vals})\n",
    "\n",
    "# Generate predictions for the additive model using the smooth x_vals\n",
    "x_vals_df['additive_pred'] = additive_model.predict(x_vals_df)\n",
    "\n",
    "# Generate predictions for the synergistic model using the smooth x_vals\n",
    "x_vals_df['synergistic_pred'] = synergistic_model.predict(x_vals_df)\n",
    "\n",
    "# Plot the additive model (with points and best fit line)\n",
    "fig_additive = px.scatter(cscs, x='CONNECTION_social_num_close_friends', y='isolation',\n",
    "                          color='hug_indicator', title='Additive Model: Best Fit Line',\n",
    "                          labels={'CONNECTION_social_num_close_friends': 'Number of Close Friends',\n",
    "                                  'isolation': 'Isolation (Binary)', 'hug_indicator': 'Hug Indicator'})\n",
    "\n",
    "# Add the smooth best fit line for the additive model\n",
    "fig_additive.add_scatter(x=x_vals_df['CONNECTION_social_num_close_friends'], \n",
    "                         y=x_vals_df['additive_pred'], mode='lines', name='Best Fit Line (Additive)', line=dict(color='red'))\n",
    "\n",
    "# Plot the synergistic model (with points and best fit line)\n",
    "fig_synergistic = px.scatter(cscs, x='CONNECTION_social_num_close_friends', y='isolation',\n",
    "                             color='hug_indicator', title='Synergistic Model: Best Fit Line',\n",
    "                             labels={'CONNECTION_social_num_close_friends': 'Number of Close Friends',\n",
    "                                     'isolation': 'Isolation (Binary)', 'hug_indicator': 'Hug Indicator'})\n",
    "\n",
    "# Add the smooth best fit line for the synergistic model\n",
    "fig_synergistic.add_scatter(x=x_vals_df['CONNECTION_social_num_close_friends'], \n",
    "                            y=x_vals_df['synergistic_pred'], mode='lines', name='Best Fit Line (Synergistic)', line=dict(color='blue'))\n",
    "\n",
    "# Show the plots\n",
    "fig_additive.show(renderer = \"png\")\n",
    "fig_synergistic.show(renderer = \"png\")\n"
   ]
  },
  {
   "cell_type": "markdown",
   "id": "2c62b5ad",
   "metadata": {},
   "source": [
    "This model predicts whether an individual is isolated (binary variable) using the number of close friends (continuous variable) and the categories of how often someone is hugged using indicator variables. To make predictions using this formula, you would plug in coefficients from the fitted model into the logistic model, which will output the probability of someone feeling isolated. \n",
    "\n",
    "Since the p-value is very far from a significance level of 0.05 for number of close friends, hugging a few times a week, hugging monthly, and not hugging in the past three months, all of these predictor variables are significant in predicting whether an individual is lonely or not. "
   ]
  },
  {
   "cell_type": "markdown",
   "id": "c2e3c9fb",
   "metadata": {},
   "source": [
    "ChaptGPT Link: https://chatgpt.com/share/67365cce-33b8-8011-b241-af04b944d851"
   ]
  },
  {
   "cell_type": "markdown",
   "id": "a99124f9",
   "metadata": {},
   "source": [
    "# 4"
   ]
  },
  {
   "cell_type": "code",
   "execution_count": 17,
   "id": "3b376a1d",
   "metadata": {},
   "outputs": [
    {
     "data": {
      "text/html": [
       "<table class=\"simpletable\">\n",
       "<caption>OLS Regression Results</caption>\n",
       "<tr>\n",
       "  <th>Dep. Variable:</th>           <td>HP</td>        <th>  R-squared:         </th> <td>   0.176</td>\n",
       "</tr>\n",
       "<tr>\n",
       "  <th>Model:</th>                   <td>OLS</td>       <th>  Adj. R-squared:    </th> <td>   0.164</td>\n",
       "</tr>\n",
       "<tr>\n",
       "  <th>Method:</th>             <td>Least Squares</td>  <th>  F-statistic:       </th> <td>   15.27</td>\n",
       "</tr>\n",
       "<tr>\n",
       "  <th>Date:</th>             <td>Wed, 13 Nov 2024</td> <th>  Prob (F-statistic):</th> <td>3.50e-27</td>\n",
       "</tr>\n",
       "<tr>\n",
       "  <th>Time:</th>                 <td>22:11:13</td>     <th>  Log-Likelihood:    </th> <td> -3649.4</td>\n",
       "</tr>\n",
       "<tr>\n",
       "  <th>No. Observations:</th>      <td>   800</td>      <th>  AIC:               </th> <td>   7323.</td>\n",
       "</tr>\n",
       "<tr>\n",
       "  <th>Df Residuals:</th>          <td>   788</td>      <th>  BIC:               </th> <td>   7379.</td>\n",
       "</tr>\n",
       "<tr>\n",
       "  <th>Df Model:</th>              <td>    11</td>      <th>                     </th>     <td> </td>   \n",
       "</tr>\n",
       "<tr>\n",
       "  <th>Covariance Type:</th>      <td>nonrobust</td>    <th>                     </th>     <td> </td>   \n",
       "</tr>\n",
       "</table>\n",
       "<table class=\"simpletable\">\n",
       "<tr>\n",
       "                 <td></td>                    <th>coef</th>     <th>std err</th>      <th>t</th>      <th>P>|t|</th>  <th>[0.025</th>    <th>0.975]</th>  \n",
       "</tr>\n",
       "<tr>\n",
       "  <th>Intercept</th>                       <td>   26.8971</td> <td>    5.246</td> <td>    5.127</td> <td> 0.000</td> <td>   16.599</td> <td>   37.195</td>\n",
       "</tr>\n",
       "<tr>\n",
       "  <th>C(Generation)[T.2]</th>              <td>   20.0449</td> <td>    7.821</td> <td>    2.563</td> <td> 0.011</td> <td>    4.692</td> <td>   35.398</td>\n",
       "</tr>\n",
       "<tr>\n",
       "  <th>C(Generation)[T.3]</th>              <td>   21.3662</td> <td>    6.998</td> <td>    3.053</td> <td> 0.002</td> <td>    7.629</td> <td>   35.103</td>\n",
       "</tr>\n",
       "<tr>\n",
       "  <th>C(Generation)[T.4]</th>              <td>   31.9575</td> <td>    8.235</td> <td>    3.881</td> <td> 0.000</td> <td>   15.793</td> <td>   48.122</td>\n",
       "</tr>\n",
       "<tr>\n",
       "  <th>C(Generation)[T.5]</th>              <td>    9.4926</td> <td>    7.883</td> <td>    1.204</td> <td> 0.229</td> <td>   -5.982</td> <td>   24.968</td>\n",
       "</tr>\n",
       "<tr>\n",
       "  <th>C(Generation)[T.6]</th>              <td>   22.2693</td> <td>    8.709</td> <td>    2.557</td> <td> 0.011</td> <td>    5.173</td> <td>   39.366</td>\n",
       "</tr>\n",
       "<tr>\n",
       "  <th>Q(\"Sp. Def\")</th>                    <td>    0.5634</td> <td>    0.071</td> <td>    7.906</td> <td> 0.000</td> <td>    0.423</td> <td>    0.703</td>\n",
       "</tr>\n",
       "<tr>\n",
       "  <th>Q(\"Sp. Def\"):C(Generation)[T.2]</th> <td>   -0.2350</td> <td>    0.101</td> <td>   -2.316</td> <td> 0.021</td> <td>   -0.434</td> <td>   -0.036</td>\n",
       "</tr>\n",
       "<tr>\n",
       "  <th>Q(\"Sp. Def\"):C(Generation)[T.3]</th> <td>   -0.3067</td> <td>    0.093</td> <td>   -3.300</td> <td> 0.001</td> <td>   -0.489</td> <td>   -0.124</td>\n",
       "</tr>\n",
       "<tr>\n",
       "  <th>Q(\"Sp. Def\"):C(Generation)[T.4]</th> <td>   -0.3790</td> <td>    0.105</td> <td>   -3.600</td> <td> 0.000</td> <td>   -0.586</td> <td>   -0.172</td>\n",
       "</tr>\n",
       "<tr>\n",
       "  <th>Q(\"Sp. Def\"):C(Generation)[T.5]</th> <td>   -0.0484</td> <td>    0.108</td> <td>   -0.447</td> <td> 0.655</td> <td>   -0.261</td> <td>    0.164</td>\n",
       "</tr>\n",
       "<tr>\n",
       "  <th>Q(\"Sp. Def\"):C(Generation)[T.6]</th> <td>   -0.3083</td> <td>    0.112</td> <td>   -2.756</td> <td> 0.006</td> <td>   -0.528</td> <td>   -0.089</td>\n",
       "</tr>\n",
       "</table>\n",
       "<table class=\"simpletable\">\n",
       "<tr>\n",
       "  <th>Omnibus:</th>       <td>337.229</td> <th>  Durbin-Watson:     </th> <td>   1.505</td>\n",
       "</tr>\n",
       "<tr>\n",
       "  <th>Prob(Omnibus):</th> <td> 0.000</td>  <th>  Jarque-Bera (JB):  </th> <td>2871.522</td>\n",
       "</tr>\n",
       "<tr>\n",
       "  <th>Skew:</th>          <td> 1.684</td>  <th>  Prob(JB):          </th> <td>    0.00</td>\n",
       "</tr>\n",
       "<tr>\n",
       "  <th>Kurtosis:</th>      <td>11.649</td>  <th>  Cond. No.          </th> <td>1.40e+03</td>\n",
       "</tr>\n",
       "</table><br/><br/>Notes:<br/>[1] Standard Errors assume that the covariance matrix of the errors is correctly specified.<br/>[2] The condition number is large, 1.4e+03. This might indicate that there are<br/>strong multicollinearity or other numerical problems."
      ],
      "text/latex": [
       "\\begin{center}\n",
       "\\begin{tabular}{lclc}\n",
       "\\toprule\n",
       "\\textbf{Dep. Variable:}                  &        HP        & \\textbf{  R-squared:         } &     0.176   \\\\\n",
       "\\textbf{Model:}                          &       OLS        & \\textbf{  Adj. R-squared:    } &     0.164   \\\\\n",
       "\\textbf{Method:}                         &  Least Squares   & \\textbf{  F-statistic:       } &     15.27   \\\\\n",
       "\\textbf{Date:}                           & Wed, 13 Nov 2024 & \\textbf{  Prob (F-statistic):} &  3.50e-27   \\\\\n",
       "\\textbf{Time:}                           &     22:11:13     & \\textbf{  Log-Likelihood:    } &   -3649.4   \\\\\n",
       "\\textbf{No. Observations:}               &         800      & \\textbf{  AIC:               } &     7323.   \\\\\n",
       "\\textbf{Df Residuals:}                   &         788      & \\textbf{  BIC:               } &     7379.   \\\\\n",
       "\\textbf{Df Model:}                       &          11      & \\textbf{                     } &             \\\\\n",
       "\\textbf{Covariance Type:}                &    nonrobust     & \\textbf{                     } &             \\\\\n",
       "\\bottomrule\n",
       "\\end{tabular}\n",
       "\\begin{tabular}{lcccccc}\n",
       "                                         & \\textbf{coef} & \\textbf{std err} & \\textbf{t} & \\textbf{P$> |$t$|$} & \\textbf{[0.025} & \\textbf{0.975]}  \\\\\n",
       "\\midrule\n",
       "\\textbf{Intercept}                       &      26.8971  &        5.246     &     5.127  &         0.000        &       16.599    &       37.195     \\\\\n",
       "\\textbf{C(Generation)[T.2]}              &      20.0449  &        7.821     &     2.563  &         0.011        &        4.692    &       35.398     \\\\\n",
       "\\textbf{C(Generation)[T.3]}              &      21.3662  &        6.998     &     3.053  &         0.002        &        7.629    &       35.103     \\\\\n",
       "\\textbf{C(Generation)[T.4]}              &      31.9575  &        8.235     &     3.881  &         0.000        &       15.793    &       48.122     \\\\\n",
       "\\textbf{C(Generation)[T.5]}              &       9.4926  &        7.883     &     1.204  &         0.229        &       -5.982    &       24.968     \\\\\n",
       "\\textbf{C(Generation)[T.6]}              &      22.2693  &        8.709     &     2.557  &         0.011        &        5.173    &       39.366     \\\\\n",
       "\\textbf{Q(\"Sp. Def\")}                    &       0.5634  &        0.071     &     7.906  &         0.000        &        0.423    &        0.703     \\\\\n",
       "\\textbf{Q(\"Sp. Def\"):C(Generation)[T.2]} &      -0.2350  &        0.101     &    -2.316  &         0.021        &       -0.434    &       -0.036     \\\\\n",
       "\\textbf{Q(\"Sp. Def\"):C(Generation)[T.3]} &      -0.3067  &        0.093     &    -3.300  &         0.001        &       -0.489    &       -0.124     \\\\\n",
       "\\textbf{Q(\"Sp. Def\"):C(Generation)[T.4]} &      -0.3790  &        0.105     &    -3.600  &         0.000        &       -0.586    &       -0.172     \\\\\n",
       "\\textbf{Q(\"Sp. Def\"):C(Generation)[T.5]} &      -0.0484  &        0.108     &    -0.447  &         0.655        &       -0.261    &        0.164     \\\\\n",
       "\\textbf{Q(\"Sp. Def\"):C(Generation)[T.6]} &      -0.3083  &        0.112     &    -2.756  &         0.006        &       -0.528    &       -0.089     \\\\\n",
       "\\bottomrule\n",
       "\\end{tabular}\n",
       "\\begin{tabular}{lclc}\n",
       "\\textbf{Omnibus:}       & 337.229 & \\textbf{  Durbin-Watson:     } &    1.505  \\\\\n",
       "\\textbf{Prob(Omnibus):} &   0.000 & \\textbf{  Jarque-Bera (JB):  } & 2871.522  \\\\\n",
       "\\textbf{Skew:}          &   1.684 & \\textbf{  Prob(JB):          } &     0.00  \\\\\n",
       "\\textbf{Kurtosis:}      &  11.649 & \\textbf{  Cond. No.          } & 1.40e+03  \\\\\n",
       "\\bottomrule\n",
       "\\end{tabular}\n",
       "%\\caption{OLS Regression Results}\n",
       "\\end{center}\n",
       "\n",
       "Notes: \\newline\n",
       " [1] Standard Errors assume that the covariance matrix of the errors is correctly specified. \\newline\n",
       " [2] The condition number is large, 1.4e+03. This might indicate that there are \\newline\n",
       " strong multicollinearity or other numerical problems."
      ],
      "text/plain": [
       "<class 'statsmodels.iolib.summary.Summary'>\n",
       "\"\"\"\n",
       "                            OLS Regression Results                            \n",
       "==============================================================================\n",
       "Dep. Variable:                     HP   R-squared:                       0.176\n",
       "Model:                            OLS   Adj. R-squared:                  0.164\n",
       "Method:                 Least Squares   F-statistic:                     15.27\n",
       "Date:                Wed, 13 Nov 2024   Prob (F-statistic):           3.50e-27\n",
       "Time:                        22:11:13   Log-Likelihood:                -3649.4\n",
       "No. Observations:                 800   AIC:                             7323.\n",
       "Df Residuals:                     788   BIC:                             7379.\n",
       "Df Model:                          11                                         \n",
       "Covariance Type:            nonrobust                                         \n",
       "===================================================================================================\n",
       "                                      coef    std err          t      P>|t|      [0.025      0.975]\n",
       "---------------------------------------------------------------------------------------------------\n",
       "Intercept                          26.8971      5.246      5.127      0.000      16.599      37.195\n",
       "C(Generation)[T.2]                 20.0449      7.821      2.563      0.011       4.692      35.398\n",
       "C(Generation)[T.3]                 21.3662      6.998      3.053      0.002       7.629      35.103\n",
       "C(Generation)[T.4]                 31.9575      8.235      3.881      0.000      15.793      48.122\n",
       "C(Generation)[T.5]                  9.4926      7.883      1.204      0.229      -5.982      24.968\n",
       "C(Generation)[T.6]                 22.2693      8.709      2.557      0.011       5.173      39.366\n",
       "Q(\"Sp. Def\")                        0.5634      0.071      7.906      0.000       0.423       0.703\n",
       "Q(\"Sp. Def\"):C(Generation)[T.2]    -0.2350      0.101     -2.316      0.021      -0.434      -0.036\n",
       "Q(\"Sp. Def\"):C(Generation)[T.3]    -0.3067      0.093     -3.300      0.001      -0.489      -0.124\n",
       "Q(\"Sp. Def\"):C(Generation)[T.4]    -0.3790      0.105     -3.600      0.000      -0.586      -0.172\n",
       "Q(\"Sp. Def\"):C(Generation)[T.5]    -0.0484      0.108     -0.447      0.655      -0.261       0.164\n",
       "Q(\"Sp. Def\"):C(Generation)[T.6]    -0.3083      0.112     -2.756      0.006      -0.528      -0.089\n",
       "==============================================================================\n",
       "Omnibus:                      337.229   Durbin-Watson:                   1.505\n",
       "Prob(Omnibus):                  0.000   Jarque-Bera (JB):             2871.522\n",
       "Skew:                           1.684   Prob(JB):                         0.00\n",
       "Kurtosis:                      11.649   Cond. No.                     1.40e+03\n",
       "==============================================================================\n",
       "\n",
       "Notes:\n",
       "[1] Standard Errors assume that the covariance matrix of the errors is correctly specified.\n",
       "[2] The condition number is large, 1.4e+03. This might indicate that there are\n",
       "strong multicollinearity or other numerical problems.\n",
       "\"\"\""
      ]
     },
     "execution_count": 17,
     "metadata": {},
     "output_type": "execute_result"
    }
   ],
   "source": [
    "import pandas as pd\n",
    "\n",
    "url = \"https://raw.githubusercontent.com/KeithGalli/pandas/master/pokemon_data.csv\"\n",
    "# fail https://github.com/KeithGalli/pandas/blob/master/pokemon_data.csv\n",
    "pokeaman = pd.read_csv(url) \n",
    "pokeaman\n",
    "import statsmodels.formula.api as smf\n",
    "\n",
    "model1_spec = smf.ols(formula='HP ~ Q(\"Sp. Def\") + C(Generation)', data=pokeaman)\n",
    "model2_spec = smf.ols(formula='HP ~ Q(\"Sp. Def\") + C(Generation) + Q(\"Sp. Def\"):C(Generation)', data=pokeaman)\n",
    "model2_spec = smf.ols(formula='HP ~ Q(\"Sp. Def\") * C(Generation)', data=pokeaman)\n",
    "\n",
    "model2_fit = model2_spec.fit()\n",
    "model2_fit.summary()"
   ]
  },
  {
   "cell_type": "markdown",
   "id": "4ae3fc6e",
   "metadata": {},
   "source": [
    "The contradiction arises from looking at the R^2 value and the p-value. Interpreting R^2 in this context allows us to see that the model explains 17.6% of the variability in the outcome, which is a small amount. However, the individual predictors can be statistically significant at the same time, meaning it has a very low p-value. This, alongside having a larger coefficient, can show that these individual predictors have a strong effect in predicting the outcome. Overall, the model does not explain the variability in the outcome very well, its individual predictors are statistically significant in prediciting the outcome. "
   ]
  },
  {
   "cell_type": "markdown",
   "id": "d36cda82",
   "metadata": {},
   "source": [
    "# 5 "
   ]
  },
  {
   "cell_type": "code",
   "execution_count": 18,
   "id": "0ee0c218",
   "metadata": {},
   "outputs": [
    {
     "name": "stdout",
     "output_type": "stream",
     "text": [
      "'In sample' R-squared:     0.14771558304519894\n",
      "'Out of sample' R-squared: 0.21208501873920738\n",
      "'In sample' R-squared:     0.46709442115833855\n",
      "'Out of sample' R-squared: 0.002485342598992873\n"
     ]
    }
   ],
   "source": [
    "import numpy as np\n",
    "from sklearn.model_selection import train_test_split\n",
    "\n",
    "fifty_fifty_split_size = int(pokeaman.shape[0]*0.5)\n",
    "\n",
    "# Replace \"NaN\" (in the \"Type 2\" column with \"None\")\n",
    "pokeaman.fillna('None', inplace=True)\n",
    "\n",
    "np.random.seed(130)\n",
    "pokeaman_train,pokeaman_test = \\\n",
    "  train_test_split(pokeaman, train_size=fifty_fifty_split_size)\n",
    "pokeaman_train\n",
    "model_spec3 = smf.ols(formula='HP ~ Attack + Defense', \n",
    "                      data=pokeaman_train)\n",
    "model3_fit = model_spec3.fit()\n",
    "model3_fit.summary()\n",
    "yhat_model3 = model3_fit.predict(pokeaman_test)\n",
    "y = pokeaman_test.HP\n",
    "print(\"'In sample' R-squared:    \", model3_fit.rsquared)\n",
    "print(\"'Out of sample' R-squared:\", np.corrcoef(y,yhat_model3)[0,1]**2)\n",
    "model4_linear_form = 'HP ~ Attack * Defense * Speed * Legendary'\n",
    "model4_linear_form += ' * Q(\"Sp. Def\") * Q(\"Sp. Atk\")'\n",
    "# DO NOT try adding '* C(Generation) * C(Q(\"Type 1\")) * C(Q(\"Type 2\"))'\n",
    "# That's 6*18*19 = 6*18*19 possible interaction combinations...\n",
    "# ...a huge number that will blow up your computer\n",
    "\n",
    "model4_spec = smf.ols(formula=model4_linear_form, data=pokeaman_train)\n",
    "model4_fit = model4_spec.fit()\n",
    "model4_fit.summary()\n",
    "yhat_model4 = model4_fit.predict(pokeaman_test)\n",
    "y = pokeaman_test.HP\n",
    "print(\"'In sample' R-squared:    \", model4_fit.rsquared)\n",
    "print(\"'Out of sample' R-squared:\", np.corrcoef(y,yhat_model4)[0,1]**2)"
   ]
  },
  {
   "cell_type": "markdown",
   "id": "5ee4a1e3",
   "metadata": {},
   "source": [
    "These cells are illustrating how to fit and evaluate linear regression models on the dataset and demonstrates the difference in performance of in-sample and out-of-sample R-squared. Firstly, the data is split into \"training\" and \"testing\" datasets. The \"training\" dataset is used to fit the models, whereas the \"testing\" dataset is used to later evaluate how well the model predicts the outcome. Model 3 is a simple linear regression of HP as the predicted outcome and Attack and Defense as the predictive variables. Then, Model 3's performance is evaluated for both \"in sample\" and \"out of sample\" R-squared. Model 4 is a more complex model than Model 3, taking into account Attack, Defense, Speed, and Legendary, and how thse variables interact with eachother to predict HP. Model 4 is fitted using the \"training\" data as Model 3 was, and then it is evaluated for its \"in sample\" R-squared and \"out of sample\" R-squared values. "
   ]
  },
  {
   "cell_type": "markdown",
   "id": "d465a009",
   "metadata": {},
   "source": [
    "# 6 "
   ]
  },
  {
   "cell_type": "code",
   "execution_count": 20,
   "id": "fe92e827",
   "metadata": {},
   "outputs": [
    {
     "data": {
      "text/html": [
       "<table class=\"simpletable\">\n",
       "<tr>\n",
       "  <th>Omnibus:</th>       <td>214.307</td> <th>  Durbin-Watson:     </th> <td>   1.992</td>\n",
       "</tr>\n",
       "<tr>\n",
       "  <th>Prob(Omnibus):</th> <td> 0.000</td>  <th>  Jarque-Bera (JB):  </th> <td>2354.664</td>\n",
       "</tr>\n",
       "<tr>\n",
       "  <th>Skew:</th>          <td> 2.026</td>  <th>  Prob(JB):          </th> <td>    0.00</td>\n",
       "</tr>\n",
       "<tr>\n",
       "  <th>Kurtosis:</th>      <td>14.174</td>  <th>  Cond. No.          </th> <td>1.20e+16</td>\n",
       "</tr>\n",
       "</table>"
      ],
      "text/latex": [
       "\\begin{center}\n",
       "\\begin{tabular}{lclc}\n",
       "\\toprule\n",
       "\\textbf{Omnibus:}       & 214.307 & \\textbf{  Durbin-Watson:     } &    1.992  \\\\\n",
       "\\textbf{Prob(Omnibus):} &   0.000 & \\textbf{  Jarque-Bera (JB):  } & 2354.664  \\\\\n",
       "\\textbf{Skew:}          &   2.026 & \\textbf{  Prob(JB):          } &     0.00  \\\\\n",
       "\\textbf{Kurtosis:}      &  14.174 & \\textbf{  Cond. No.          } & 1.20e+16  \\\\\n",
       "\\bottomrule\n",
       "\\end{tabular}\n",
       "\\end{center}"
      ],
      "text/plain": [
       "<class 'statsmodels.iolib.table.SimpleTable'>"
      ]
     },
     "execution_count": 20,
     "metadata": {},
     "output_type": "execute_result"
    }
   ],
   "source": [
    "# \"Cond. No.\" WAS 343.0 WITHOUT to centering and scaling\n",
    "model3_fit.summary() \n",
    "from patsy import center, scale\n",
    "\n",
    "model3_linear_form_center_scale = \\\n",
    "  'HP ~ scale(center(Attack)) + scale(center(Defense))' \n",
    "model_spec3_center_scale = smf.ols(formula=model3_linear_form_center_scale,\n",
    "                                   data=pokeaman_train)\n",
    "model3_center_scale_fit = model_spec3_center_scale.fit()\n",
    "model3_center_scale_fit.summary()\n",
    "# \"Cond. No.\" is NOW 1.66 due to centering and scaling\n",
    "model4_linear_form_CS = 'HP ~ scale(center(Attack)) * scale(center(Defense))'\n",
    "model4_linear_form_CS += ' * scale(center(Speed)) * Legendary' \n",
    "model4_linear_form_CS += ' * scale(center(Q(\"Sp. Def\"))) * scale(center(Q(\"Sp. Atk\")))'\n",
    "# Legendary is an indicator, so we don't center and scale that\n",
    "\n",
    "model4_CS_spec = smf.ols(formula=model4_linear_form_CS, data=pokeaman_train)\n",
    "model4_CS_fit = model4_CS_spec.fit()\n",
    "model4_CS_fit.summary().tables[-1]  # Cond. No. is 2,250,000,000,000,000\n",
    "\n",
    "# The condition number is still bad even after centering and scaling\n",
    "# Just as the condition number was very bad to start with\n",
    "model4_fit.summary().tables[-1]  # Cond. No. is 12,000,000,000,000,000"
   ]
  },
  {
   "cell_type": "markdown",
   "id": "6b6dfd9c",
   "metadata": {},
   "source": [
    "The model4_linear_form creates new predictor variables, as when you combine two predictor variables (by multiplying them, creating interaction terms), these values are treated as new predictor variables. Multicollinearity happens when predictor variables are highly correlated with eachother, which makes it harder to separate the individual effects. Since we are including interaction terms in this model, it can increase the chances of these variables being correlated, which is manifested in a high condition number: small changes in the data can drastically change the outcome. This means that the model is not completely able to accurately make predictions on new, \"out of sample,\" data. "
   ]
  },
  {
   "cell_type": "markdown",
   "id": "c1272c17",
   "metadata": {},
   "source": [
    "# 7 "
   ]
  },
  {
   "cell_type": "code",
   "execution_count": 21,
   "id": "b34309b2",
   "metadata": {},
   "outputs": [
    {
     "name": "stdout",
     "output_type": "stream",
     "text": [
      "'In sample' R-squared:     0.3920134083531893\n",
      "'Out of sample' R-squared: 0.30015614488652215\n",
      "'In sample' R-squared:     0.3326310334310908\n",
      "'Out of sample' R-squared: 0.29572460427079933\n",
      "'In sample' R-squared:     0.37818209127432456\n",
      "'Out of sample' R-squared: 0.35055389205977444\n"
     ]
    },
    {
     "data": {
      "text/html": [
       "<table class=\"simpletable\">\n",
       "<tr>\n",
       "  <th>Omnibus:</th>       <td>252.300</td> <th>  Durbin-Watson:     </th> <td>   1.953</td>\n",
       "</tr>\n",
       "<tr>\n",
       "  <th>Prob(Omnibus):</th> <td> 0.000</td>  <th>  Jarque-Bera (JB):  </th> <td>3474.611</td>\n",
       "</tr>\n",
       "<tr>\n",
       "  <th>Skew:</th>          <td> 2.438</td>  <th>  Prob(JB):          </th> <td>    0.00</td>\n",
       "</tr>\n",
       "<tr>\n",
       "  <th>Kurtosis:</th>      <td>16.590</td>  <th>  Cond. No.          </th> <td>2.34e+09</td>\n",
       "</tr>\n",
       "</table>"
      ],
      "text/latex": [
       "\\begin{center}\n",
       "\\begin{tabular}{lclc}\n",
       "\\toprule\n",
       "\\textbf{Omnibus:}       & 252.300 & \\textbf{  Durbin-Watson:     } &    1.953  \\\\\n",
       "\\textbf{Prob(Omnibus):} &   0.000 & \\textbf{  Jarque-Bera (JB):  } & 3474.611  \\\\\n",
       "\\textbf{Skew:}          &   2.438 & \\textbf{  Prob(JB):          } &     0.00  \\\\\n",
       "\\textbf{Kurtosis:}      &  16.590 & \\textbf{  Cond. No.          } & 2.34e+09  \\\\\n",
       "\\bottomrule\n",
       "\\end{tabular}\n",
       "\\end{center}"
      ],
      "text/plain": [
       "<class 'statsmodels.iolib.table.SimpleTable'>"
      ]
     },
     "execution_count": 21,
     "metadata": {},
     "output_type": "execute_result"
    }
   ],
   "source": [
    "# Here's something a little more reasonable...\n",
    "model5_linear_form = 'HP ~ Attack + Defense + Speed + Legendary'\n",
    "model5_linear_form += ' + Q(\"Sp. Def\") + Q(\"Sp. Atk\")'\n",
    "model5_linear_form += ' + C(Generation) + C(Q(\"Type 1\")) + C(Q(\"Type 2\"))'\n",
    "\n",
    "model5_spec = smf.ols(formula=model5_linear_form, data=pokeaman_train)\n",
    "model5_fit = model5_spec.fit()\n",
    "model5_fit.summary()\n",
    "yhat_model5 = model5_fit.predict(pokeaman_test)\n",
    "y = pokeaman_test.HP\n",
    "print(\"'In sample' R-squared:    \", model5_fit.rsquared)\n",
    "print(\"'Out of sample' R-squared:\", np.corrcoef(y,yhat_model5)[0,1]**2)\n",
    "# Here's something a little more reasonable...\n",
    "model6_linear_form = 'HP ~ Attack + Speed + Q(\"Sp. Def\") + Q(\"Sp. Atk\")'\n",
    "# And here we'll add the significant indicators from the previous model\n",
    "# https://chatgpt.com/share/81ab88df-4f07-49f9-a44a-de0cfd89c67c\n",
    "model6_linear_form += ' + I(Q(\"Type 1\")==\"Normal\")'\n",
    "model6_linear_form += ' + I(Q(\"Type 1\")==\"Water\")'\n",
    "model6_linear_form += ' + I(Generation==2)'\n",
    "model6_linear_form += ' + I(Generation==5)'\n",
    "\n",
    "model6_spec = smf.ols(formula=model6_linear_form, data=pokeaman_train)\n",
    "model6_fit = model6_spec.fit()\n",
    "model6_fit.summary()\n",
    "yhat_model6 = model6_fit.predict(pokeaman_test)\n",
    "y = pokeaman_test.HP\n",
    "print(\"'In sample' R-squared:    \", model6_fit.rsquared)\n",
    "print(\"'Out of sample' R-squared:\", np.corrcoef(y,yhat_model6)[0,1]**2)\n",
    "# And here's a slight change that seems to perhaps improve prediction...\n",
    "model7_linear_form = 'HP ~ Attack * Speed * Q(\"Sp. Def\") * Q(\"Sp. Atk\")'\n",
    "model7_linear_form += ' + I(Q(\"Type 1\")==\"Normal\")'\n",
    "model7_linear_form += ' + I(Q(\"Type 1\")==\"Water\")'\n",
    "model7_linear_form += ' + I(Generation==2)'\n",
    "model7_linear_form += ' + I(Generation==5)'\n",
    "\n",
    "model7_spec = smf.ols(formula=model7_linear_form, data=pokeaman_train)\n",
    "model7_fit = model7_spec.fit()\n",
    "model7_fit.summary()\n",
    "yhat_model7 = model7_fit.predict(pokeaman_test)\n",
    "y = pokeaman_test.HP\n",
    "print(\"'In sample' R-squared:    \", model7_fit.rsquared)\n",
    "print(\"'Out of sample' R-squared:\", np.corrcoef(y,yhat_model7)[0,1]**2)\n",
    "# And here's a slight change that seems to perhas improve prediction...\n",
    "model7_linear_form_CS = 'HP ~ scale(center(Attack)) * scale(center(Speed))'\n",
    "model7_linear_form_CS += ' * scale(center(Q(\"Sp. Def\"))) * scale(center(Q(\"Sp. Atk\")))'\n",
    "# We DO NOT center and scale indicator variables\n",
    "model7_linear_form_CS += ' + I(Q(\"Type 1\")==\"Normal\")'\n",
    "model7_linear_form_CS += ' + I(Q(\"Type 1\")==\"Water\")'\n",
    "model7_linear_form_CS += ' + I(Generation==2)'\n",
    "model7_linear_form_CS += ' + I(Generation==5)'\n",
    "\n",
    "model7_CS_spec = smf.ols(formula=model7_linear_form_CS, data=pokeaman_train)\n",
    "model7_CS_fit = model7_CS_spec.fit()\n",
    "model7_CS_fit.summary().tables[-1] \n",
    "# \"Cond. No.\" is NOW 15.4 due to centering and scaling\n",
    "# \"Cond. No.\" WAS 2,340,000,000 WITHOUT to centering and scaling\n",
    "model7_fit.summary().tables[-1]"
   ]
  },
  {
   "cell_type": "markdown",
   "id": "4826fb54",
   "metadata": {},
   "source": [
    "model5_linear_form is extended from model3_linear_form by adding on more predictor variables and categorical variables to the original model3 model. More specifically, the Speed and Legendary variables are added, alongside the categorial variables Generation and Type 1/Type 2. \n",
    "\n",
    "model6_linear_form is extended from model5_linear_form by utilizing specific indicator variables. For example, I(Q(\"Type 1\")==\"Normal\") and I(Q(\"Type 1\")==\"Water\") is used, which can be helpful in focusing how specific types of pokemon can predict HP level. Similarly, the indicator variable is used for Generation 2 and Generation 5, which can also show us whether Generation 2 and Generation 5 specifically can predict the HP. This overall makes the model easier to interpret. \n",
    "\n",
    "model7_linear_form is extended from model6_linear_form by adding interaction terms between the predictor variables. This way, the model is able to account for how the predictor variables may interact with one another, rather than just focusing on their independent effects. More specifically, this model focuses on the interactions between Attack, Speed, Sp. Def, and Sp. Attack. In this manner we are able to see the non-linear interactions between these variables. \n",
    "\n",
    "Finally, model7CS_linear_form is finalized from model7_linear form by centering and scaling the continuous variables from model7, which reduces issues like multicollinearity. \n",
    "\n"
   ]
  },
  {
   "cell_type": "markdown",
   "id": "e507230c",
   "metadata": {},
   "source": [
    "# 8 "
   ]
  },
  {
   "cell_type": "code",
   "execution_count": 27,
   "id": "39012b0f",
   "metadata": {},
   "outputs": [],
   "source": [
    "import numpy as np\n",
    "import pandas as pd\n",
    "import plotly.graph_objects as go\n",
    "import plotly.express as px\n",
    "import statsmodels.formula.api as smf\n",
    "from sklearn.model_selection import train_test_split\n",
    "\n",
    "def evaluate_model_performance(data, formula, train_size=0.8, reps=100, random_state=None):\n",
    "    \"\"\"\n",
    "    Evaluate the in-sample and out-of-sample performance of a linear regression model.\n",
    "\n",
    "    Parameters:\n",
    "    - data: The dataset (pandas DataFrame).\n",
    "    - formula: The formula for the linear model (string).\n",
    "    - train_size: The proportion of data to use for training (default 0.8).\n",
    "    - reps: The number of repetitions for model evaluation (default 100).\n",
    "    - random_state: The seed for random number generator (default None).\n",
    "\n",
    "    Returns:\n",
    "    - fig: A Plotly figure object showing the performance comparison.\n",
    "    - results_df: A DataFrame containing the in-sample and out-of-sample R-squared values.\n",
    "    \"\"\"\n",
    "    \n",
    "    # Initialize arrays to store R-squared values\n",
    "    in_sample_Rsquared = np.zeros(reps)\n",
    "    out_of_sample_Rsquared = np.zeros(reps)\n",
    "\n",
    "    # Set the random seed for reproducibility (if provided)\n",
    "    np.random.seed(random_state)\n",
    "\n",
    "    # Loop for the specified number of repetitions\n",
    "    for i in range(reps):\n",
    "        # Train-test split\n",
    "        train_data, test_data = train_test_split(data, train_size=train_size)\n",
    "\n",
    "        # Fit the model using the formula\n",
    "        model = smf.ols(formula=formula, data=train_data).fit()\n",
    "\n",
    "        # Calculate in-sample R-squared\n",
    "        in_sample_Rsquared[i] = model.rsquared\n",
    "\n",
    "        # Calculate out-of-sample R-squared using correlation between actual and predicted values\n",
    "        out_of_sample_Rsquared[i] = np.corrcoef(test_data[model.endog_names], model.predict(test_data))[0, 1]**2\n",
    "\n",
    "    # Store results in a DataFrame\n",
    "    results_df = pd.DataFrame({\n",
    "        \"In Sample Performance (Rsquared)\": in_sample_Rsquared,\n",
    "        \"Out of Sample Performance (Rsquared)\": out_of_sample_Rsquared\n",
    "    })\n",
    "\n",
    "    # Create a scatter plot to visualize performance\n",
    "    fig = px.scatter(results_df, x=\"In Sample Performance (Rsquared)\", \n",
    "                     y=\"Out of Sample Performance (Rsquared)\", \n",
    "                     title=\"In-Sample vs Out-of-Sample R-Squared\", \n",
    "                     labels={\"In Sample Performance (Rsquared)\": \"In-Sample R-Squared\", \n",
    "                             \"Out of Sample Performance (Rsquared)\": \"Out-of-Sample R-Squared\"})\n",
    "\n",
    "    # Add the line y=x for reference\n",
    "    fig.add_trace(go.Scatter(x=[0, 1], y=[0, 1], name=\"y=x\", line_shape='linear', line=dict(dash='dash', color='red')))\n",
    "\n",
    "    # Show the plot\n",
    "    fig.show()\n",
    "\n",
    "    return fig, results_df\n"
   ]
  },
  {
   "cell_type": "markdown",
   "id": "4d7e2def",
   "metadata": {},
   "source": [
    "The purpose of this is to assess the ability of the model to be generalized to other new data sets. In other words, we are assessing how consistent the model is when used on different subsets of the data, ensuring that our model is actually making accurate predictions and is not making accurate predictions purely due to chance. It also shows the variablity of the model. The results would be displayed as a scatterplot with two axes, one for how well the model explains the variation for the training data, and one for the testing data. If all of the points are close to y = x, this means that the R^2 values for the in-sample and out of sample are about the same, meaning that the model generalizes well. "
   ]
  },
  {
   "cell_type": "markdown",
   "id": "3c2c3ece",
   "metadata": {},
   "source": [
    "# 9 "
   ]
  },
  {
   "cell_type": "code",
   "execution_count": 28,
   "id": "e0fb4f34",
   "metadata": {},
   "outputs": [
    {
     "name": "stdout",
     "output_type": "stream",
     "text": [
      "'In sample' R-squared:     0.37818209127432456 (original)\n",
      "'Out of sample' R-squared: 0.35055389205977444 (original)\n",
      "'In sample' R-squared:     0.5726118179916575 (gen1_predict_future)\n",
      "'Out of sample' R-squared: 0.11151363354803218 (gen1_predict_future)\n",
      "'In sample' R-squared:     0.37818209127432456 (original)\n",
      "'Out of sample' R-squared: 0.35055389205977444 (original)\n",
      "'In sample' R-squared:     0.3904756578094535 (gen1to5_predict_future)\n",
      "'Out of sample' R-squared: 0.23394915464343125 (gen1to5_predict_future)\n",
      "'In sample' R-squared:     0.3326310334310908 (original)\n",
      "'Out of sample' R-squared: 0.29572460427079933 (original)\n",
      "'In sample' R-squared:     0.4433880517727282 (gen1_predict_future)\n",
      "'Out of sample' R-squared: 0.1932858534276128 (gen1_predict_future)\n",
      "'In sample' R-squared:     0.3326310334310908 (original)\n",
      "'Out of sample' R-squared: 0.29572460427079933 (original)\n",
      "'In sample' R-squared:     0.33517279824114776 (gen1to5_predict_future)\n",
      "'Out of sample' R-squared: 0.26262690178799936 (gen1to5_predict_future)\n"
     ]
    }
   ],
   "source": [
    " model7_gen1_predict_future = smf.ols(formula=model7_linear_form,\n",
    "                                   data=pokeaman[pokeaman.Generation==1])\n",
    "model7_gen1_predict_future_fit = model7_gen1_predict_future.fit()\n",
    "print(\"'In sample' R-squared:    \", model7_fit.rsquared, \"(original)\")\n",
    "y = pokeaman_test.HP\n",
    "print(\"'Out of sample' R-squared:\", np.corrcoef(y,yhat_model7)[0,1]**2, \"(original)\")\n",
    "print(\"'In sample' R-squared:    \", model7_gen1_predict_future_fit.rsquared, \"(gen1_predict_future)\")\n",
    "y = pokeaman[pokeaman.Generation!=1].HP\n",
    "yhat = model7_gen1_predict_future_fit.predict(pokeaman[pokeaman.Generation!=1])\n",
    "print(\"'Out of sample' R-squared:\", np.corrcoef(y,yhat)[0,1]**2, \"(gen1_predict_future)\")\n",
    "model7_gen1to5_predict_future = smf.ols(formula=model7_linear_form,\n",
    "                                   data=pokeaman[pokeaman.Generation!=6])\n",
    "model7_gen1to5_predict_future_fit = model7_gen1to5_predict_future.fit()\n",
    "print(\"'In sample' R-squared:    \", model7_fit.rsquared, \"(original)\")\n",
    "y = pokeaman_test.HP\n",
    "print(\"'Out of sample' R-squared:\", np.corrcoef(y,yhat_model7)[0,1]**2, \"(original)\")\n",
    "print(\"'In sample' R-squared:    \", model7_gen1to5_predict_future_fit.rsquared, \"(gen1to5_predict_future)\")\n",
    "y = pokeaman[pokeaman.Generation==6].HP\n",
    "yhat = model7_gen1to5_predict_future_fit.predict(pokeaman[pokeaman.Generation==6])\n",
    "print(\"'Out of sample' R-squared:\", np.corrcoef(y,yhat)[0,1]**2, \"(gen1to5_predict_future)\")\n",
    "model6_gen1_predict_future = smf.ols(formula=model6_linear_form,\n",
    "                                   data=pokeaman[pokeaman.Generation==1])\n",
    "model6_gen1_predict_future_fit = model6_gen1_predict_future.fit()\n",
    "print(\"'In sample' R-squared:    \", model6_fit.rsquared, \"(original)\")\n",
    "y = pokeaman_test.HP\n",
    "print(\"'Out of sample' R-squared:\", np.corrcoef(y,yhat_model6)[0,1]**2, \"(original)\")\n",
    "print(\"'In sample' R-squared:    \", model6_gen1_predict_future_fit.rsquared, \"(gen1_predict_future)\")\n",
    "y = pokeaman[pokeaman.Generation!=1].HP\n",
    "yhat = model6_gen1_predict_future_fit.predict(pokeaman[pokeaman.Generation!=1])\n",
    "print(\"'Out of sample' R-squared:\", np.corrcoef(y,yhat)[0,1]**2, \"(gen1_predict_future)\")\n",
    "model6_gen1to5_predict_future = smf.ols(formula=model6_linear_form,\n",
    "                                   data=pokeaman[pokeaman.Generation!=6])\n",
    "model6_gen1to5_predict_future_fit = model6_gen1to5_predict_future.fit()\n",
    "print(\"'In sample' R-squared:    \", model6_fit.rsquared, \"(original)\")\n",
    "y = pokeaman_test.HP\n",
    "print(\"'Out of sample' R-squared:\", np.corrcoef(y,yhat_model6)[0,1]**2, \"(original)\")\n",
    "print(\"'In sample' R-squared:    \", model6_gen1to5_predict_future_fit.rsquared, \"(gen1to5_predict_future)\")\n",
    "y = pokeaman[pokeaman.Generation==6].HP\n",
    "yhat = model6_gen1to5_predict_future_fit.predict(pokeaman[pokeaman.Generation==6])\n",
    "print(\"'Out of sample' R-squared:\", np.corrcoef(y,yhat)[0,1]**2, \"(gen1to5_predict_future)\")"
   ]
  },
  {
   "cell_type": "markdown",
   "id": "43413e56",
   "metadata": {},
   "source": [
    "This code is performing several different model evaluations. More specifically, it tests how well the models trained on specific generations can be generalized for other generations to predict HP. They are each evaluated for their \"in-sample\" and \"out of sample\" variations. Overall, the code above tests each model's ability to generalize to future unseen data, in this case, to different generations."
   ]
  },
  {
   "cell_type": "markdown",
   "id": "2b0a6e93",
   "metadata": {},
   "source": [
    "ChatGPT link for Q4-9: https://chatgpt.com/share/67353295-019c-8011-803c-95e4becbf80e"
   ]
  },
  {
   "cell_type": "code",
   "execution_count": null,
   "id": "6e5f7b31",
   "metadata": {},
   "outputs": [],
   "source": []
  }
 ],
 "metadata": {
  "kernelspec": {
   "display_name": "Python 3 (ipykernel)",
   "language": "python",
   "name": "python3"
  },
  "language_info": {
   "codemirror_mode": {
    "name": "ipython",
    "version": 3
   },
   "file_extension": ".py",
   "mimetype": "text/x-python",
   "name": "python",
   "nbconvert_exporter": "python",
   "pygments_lexer": "ipython3",
   "version": "3.11.6"
  }
 },
 "nbformat": 4,
 "nbformat_minor": 5
}
